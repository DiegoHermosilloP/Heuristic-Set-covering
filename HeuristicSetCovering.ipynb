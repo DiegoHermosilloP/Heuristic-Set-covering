{
  "cells": [
    {
      "cell_type": "code",
      "execution_count": 2,
      "metadata": {
        "colab": {
          "base_uri": "https://localhost:8080/"
        },
        "id": "AR9E32P0jiC1",
        "outputId": "c2b03730-d83a-4a62-fe76-cfac26ce4e52"
      },
      "outputs": [
        {
          "name": "stdout",
          "output_type": "stream",
          "text": [
            "Las tiendas que se deben de abrir son: [2, 1]  y el costo total será de  30\n",
            "The time of execution of above program is : 6.628274917602539e+27 ms\n"
          ]
        }
      ],
      "source": [
        "import pandas as pd\n",
        "import numpy as np\n",
        "import time\n",
        "start=time.time()\n",
        "M=[1,2,3,4,5]\n",
        "cost=[20,10,30]\n",
        "A=np.array([[0,1,1],[1,1,0],[1,0,1],[0,1,1],[1,1,0]])\n",
        "costo_total=0\n",
        "cubiertos=[]\n",
        "abrir=[]\n",
        "while len(np.unique(cubiertos))<len(M): #Make sure all stores are \"open\"\n",
        "  tienda=np.argmin(cost)\n",
        "  abrir.append(tienda+1) #We sum 1 because python indexes start at 1\n",
        "  #Now we choose the cheapest store to open\n",
        "  costo_total+=(cost[tienda]) #Update the total cost\n",
        "  cost=np.delete(cost,tienda) #Remove the selected store from the optioins\n",
        "  for j in range(A.shape[0]):#Update the list of the opened stores\n",
        "    if A[j,tienda]!=0:\n",
        "      cubiertos.append(j)\n",
        "print(\n",
        "    \"The stores that should be opened are:\",abrir,\n",
        "    \"With a total cost of\",costo_total\n",
        ")\n",
        "end=time.time()\n",
        "print(\"The time of execution of above program is :\",(end-start)* 10**30, \"ms\")"
      ]
    }
  ],
  "metadata": {
    "colab": {
      "provenance": []
    },
    "kernelspec": {
      "display_name": "Python 3",
      "name": "python3"
    },
    "language_info": {
      "name": "python"
    }
  },
  "nbformat": 4,
  "nbformat_minor": 0
}
